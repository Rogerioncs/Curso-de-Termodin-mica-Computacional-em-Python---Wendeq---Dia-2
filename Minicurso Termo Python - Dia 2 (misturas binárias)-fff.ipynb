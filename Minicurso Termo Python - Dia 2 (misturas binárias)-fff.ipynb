{
 "cells": [
  {
   "cell_type": "code",
   "execution_count": null,
   "id": "0925639a",
   "metadata": {
    "executionInfo": {
     "elapsed": 2362,
     "status": "ok",
     "timestamp": 1719337544993,
     "user": {
      "displayName": "Rogerio Navarro Correia de Siqueira rogerioncs",
      "userId": "06100431994335146469"
     },
     "user_tz": 180
    },
    "id": "0925639a"
   },
   "outputs": [],
   "source": [
    "import numpy as np\n",
    "import math as mt\n",
    "import matplotlib.pyplot as plt\n",
    "import sympy"
   ]
  },
  {
   "cell_type": "markdown",
   "id": "38079814",
   "metadata": {
    "id": "38079814"
   },
   "source": [
    "### Funções para a extração de dados de arquivos txt para listas de dados"
   ]
  },
  {
   "cell_type": "code",
   "execution_count": null,
   "id": "f1fd6427",
   "metadata": {
    "executionInfo": {
     "elapsed": 8,
     "status": "ok",
     "timestamp": 1719337554764,
     "user": {
      "displayName": "Rogerio Navarro Correia de Siqueira rogerioncs",
      "userId": "06100431994335146469"
     },
     "user_tz": 180
    },
    "id": "f1fd6427"
   },
   "outputs": [],
   "source": [
    "def CarMat(nome):    #Função para carregar uma matriz em txt\n",
    "    mat = []\n",
    "    with open(nome) as archivo:\n",
    "        for linea in archivo:\n",
    "            A = linea.split( )\n",
    "            mat.append(A)\n",
    "    mat = np.array(mat,dtype=object)\n",
    "    return mat\n",
    "\n",
    "def StrAFloatList(list):        #para transformar uma lista com strigns a uma lista de floats\n",
    "    C = list\n",
    "    B = []\n",
    "    for i in range(0,len(list)):\n",
    "        A = float(list[i])\n",
    "        B.append(A)\n",
    "    return B\n",
    "\n",
    "def strAFloatMat(mat):          #para transformar uma matriz com strigns a uma matriz de floats\n",
    "    C = mat\n",
    "    B = []\n",
    "    for i in range(0,len(C[:,0])):\n",
    "        A = StrAFloatList(C[i,:])\n",
    "        B.append(A)\n",
    "    return np.array(B)"
   ]
  },
  {
   "cell_type": "markdown",
   "id": "1f1b12b2",
   "metadata": {
    "id": "1f1b12b2"
   },
   "source": [
    "### Modelos de Peng - Robinson e Antoine"
   ]
  },
  {
   "cell_type": "code",
   "execution_count": null,
   "id": "fcab1100",
   "metadata": {
    "executionInfo": {
     "elapsed": 8,
     "status": "ok",
     "timestamp": 1719337554764,
     "user": {
      "displayName": "Rogerio Navarro Correia de Siqueira rogerioncs",
      "userId": "06100431994335146469"
     },
     "user_tz": 180
    },
    "id": "fcab1100"
   },
   "outputs": [],
   "source": [
    "#Equação de estado de Peng - Robinson\n",
    "def calcabpr3(t,tc,pc,w,model,palfa):\n",
    "    r     = 8.314\n",
    "    ac    = 0.45724*((r*tc)**2)/pc\n",
    "    b     = 0.0778*r*tc/pc\n",
    "    tr    = t/tc\n",
    "    if (model == 'almeida'): #Função de Almeida e Tellez\n",
    "        alfat = np.exp(palfa[0]*(1-tr)*(abs(1-tr)**(palfa[1]-1))+palfa[2]*(1/tr-1))\n",
    "    elif (model == 'classico'):\n",
    "        kw = 0.37464 + 1.54226*w - 0.26992*w**2\n",
    "        alfat = (1+kw*(1-tr**0.5))**2\n",
    "    elif (model == 'coquelett'): \n",
    "        c1=1.3569*(w**2)+0.9957*w+0.4077;\n",
    "        c2=-11.298*(w**2)+3.559*w-0.1146;\n",
    "        c3=11.7801*(w**2)-3.8901*w+0.5033;\n",
    "        if (t<tc):\n",
    "            alfat=np.exp(c1*(1-tr))*(((1+c2*(1-tr**0.5)**2+c3*(1-tr**0.5)**3))**2);\n",
    "        else:\n",
    "            alfat=np.exp(c1*(1-tr));\n",
    "    a = ac*alfat\n",
    "    return a,b"
   ]
  },
  {
   "cell_type": "code",
   "execution_count": null,
   "id": "4b17a877",
   "metadata": {
    "executionInfo": {
     "elapsed": 7,
     "status": "ok",
     "timestamp": 1719337554764,
     "user": {
      "displayName": "Rogerio Navarro Correia de Siqueira rogerioncs",
      "userId": "06100431994335146469"
     },
     "user_tz": 180
    },
    "id": "4b17a877"
   },
   "outputs": [],
   "source": [
    "def calcpsatantoine(pa,t):\n",
    "    a = pa[0]\n",
    "    b = pa[1]\n",
    "    c = pa[2]\n",
    "    psat  = 10**(a-b/(t+c))\n",
    "    psata = psat*1E5\n",
    "    return psata"
   ]
  },
  {
   "cell_type": "markdown",
   "id": "e8bd6e80",
   "metadata": {
    "id": "e8bd6e80"
   },
   "source": [
    "### Rotina para cálculo de $P^{sat}$"
   ]
  },
  {
   "cell_type": "code",
   "execution_count": null,
   "id": "807f32ee",
   "metadata": {
    "executionInfo": {
     "elapsed": 7,
     "status": "ok",
     "timestamp": 1719337554764,
     "user": {
      "displayName": "Rogerio Navarro Correia de Siqueira rogerioncs",
      "userId": "06100431994335146469"
     },
     "user_tz": 180
    },
    "id": "807f32ee"
   },
   "outputs": [],
   "source": [
    "#Rotina para cálculo da pressão de saturação do Sandler\n",
    "def calculaelvfipr(t,a,b,chute0):\n",
    "    [zl,zv,A,B] = resolveeospr2(a,b,t,chute0)\n",
    "    [fiv,fil]   = calcfipr2(A,B,zl,zv)\n",
    "    r   = 8.314\n",
    "    rfi = fiv/fil\n",
    "    dfi = 1-rfi\n",
    "    tol = 1e-10 #tolerância\n",
    "    while np.any(abs(dfi)>=tol):\n",
    "        chute1 = chute0/rfi\n",
    "        [zl,zv,A,B] = resolveeospr2(a,b,t,chute1)\n",
    "        [fiv,fil]   = calcfipr2(A,B,zl,zv)\n",
    "        rfi = fiv/fil\n",
    "        dfi = 1-rfi\n",
    "        chute0 = chute1\n",
    "    plv = chute0\n",
    "    fv  = plv*fiv\n",
    "    return plv,fv"
   ]
  },
  {
   "cell_type": "code",
   "execution_count": null,
   "id": "37c36344",
   "metadata": {
    "executionInfo": {
     "elapsed": 7,
     "status": "ok",
     "timestamp": 1719337554764,
     "user": {
      "displayName": "Rogerio Navarro Correia de Siqueira rogerioncs",
      "userId": "06100431994335146469"
     },
     "user_tz": 180
    },
    "id": "37c36344"
   },
   "outputs": [],
   "source": [
    "#Coeficientes de fugacidade a partir do modelo de Peng - Robinson\n",
    "def calcfipr2(A,B,zl,zv):\n",
    "    fil = np.exp(zl-1-np.log(zl-B) + (A/(B*(2**1.5)))*np.log((zl+B*(1-2**0.5))/(zl+B*(1+2**0.5))))\n",
    "    fiv = np.exp(zv-1-np.log(zv-B) + (A/(B*(2**1.5)))*np.log((zv+B*(1-2**0.5))/(zv+B*(1+2**0.5))))\n",
    "    return fiv,fil"
   ]
  },
  {
   "cell_type": "code",
   "execution_count": null,
   "id": "db5c5697",
   "metadata": {
    "executionInfo": {
     "elapsed": 480,
     "status": "ok",
     "timestamp": 1719337555238,
     "user": {
      "displayName": "Rogerio Navarro Correia de Siqueira rogerioncs",
      "userId": "06100431994335146469"
     },
     "user_tz": 180
    },
    "id": "db5c5697"
   },
   "outputs": [],
   "source": [
    "#Função para resolver a forma cúbica de Peng - Robinson\n",
    "def resolveeospr2(a, b, t, chute):\n",
    "    r    = 8.31451\n",
    "    A    = a * chute / ((r * t) ** 2)\n",
    "    B    = b * chute / (r * t)\n",
    "    alfa = B - 1\n",
    "    beta = A - 3 * (B ** 2) - 2 * B\n",
    "    gama =-A * B + B ** 2 + B ** 3\n",
    "    p=[1,alfa,beta,gama]\n",
    "    vz=np.roots(p)\n",
    "    zl=np.real(min(vz))\n",
    "    zv=np.real(max(vz))\n",
    "    return zl, zv, A, B"
   ]
  },
  {
   "cell_type": "code",
   "execution_count": null,
   "id": "c80cf839",
   "metadata": {
    "executionInfo": {
     "elapsed": 6,
     "status": "ok",
     "timestamp": 1719337555239,
     "user": {
      "displayName": "Rogerio Navarro Correia de Siqueira rogerioncs",
      "userId": "06100431994335146469"
     },
     "user_tz": 180
    },
    "id": "c80cf839"
   },
   "outputs": [],
   "source": [
    "#Função para o cálculo de Psat via PR\n",
    "def calcpsatpr(t, tc, pc, w, lambdaA, paA):\n",
    "    tcalc = t\n",
    "    apr     = calcabpr3(tcalc,tc, pc, w, 'almeida', lambdaA) [0]\n",
    "    bpr     = calcabpr3(tcalc,tc, pc, w, 'almeida', lambdaA) [1]\n",
    "    psatA   = calcpsatantoine(paA, tcalc)\n",
    "    chutepr = psatA\n",
    "    psatPR,fsat  = calculaelvfipr(tcalc, apr, bpr, chutepr)\n",
    "    return psatPR,fsat"
   ]
  },
  {
   "cell_type": "markdown",
   "id": "4fd0b2e0",
   "metadata": {},
   "source": [
    "### Modelagem do ELV via abordagem fi - fi"
   ]
  },
  {
   "cell_type": "code",
   "execution_count": null,
   "id": "eee3eedc",
   "metadata": {},
   "outputs": [],
   "source": [
    "#Regras de mistura para o modelo de Peng-Robinsoon\n",
    "def calcab(x1,x2,t,p,ai,bi,x0):\n",
    "    r   = 8.314\n",
    "    d12 = x0 #parâmetro de interação binário\n",
    "    a12 = (1-d12)*(ai[0]*ai[1])**(1/2)\n",
    "    am  = x1**2*ai[0] + 2*x1*x2*a12 + x2**2*ai[1]\n",
    "    bm  = x1*bi[0] + x2*bi[1]\n",
    "    A   = am*p/(r*t)**2\n",
    "    B   = bm*p/(r*t)\n",
    "    return A, B, am, bm"
   ]
  },
  {
   "cell_type": "code",
   "execution_count": null,
   "id": "cec363c6",
   "metadata": {},
   "outputs": [],
   "source": [
    "#Função para o cálculo de coeficientes de fugacidade via \n",
    "def calcfipr(A,B,zv,ai,bi,a,b,x1,x2,ncomp,x0):\n",
    "    coefug = np.zeros(ncomp)\n",
    "    d12    = x0\n",
    "    a12    = (1-d12)*(ai[0]*ai[1])**(1/2)\n",
    "    \n",
    "    p11 = (bi[0]/b)*(zv-1)-np.log(zv-B)\n",
    "    p12 = A/(2*2**0.5*B)\n",
    "    p13 = 2*(x1*ai[0] + x2*a12)/a - bi[0]/b\n",
    "    p14 = np.log((zv + (1 + 2**0.5)*B)/(zv + (1 - 2**0.5)*B))\n",
    "    coefug1 = np.exp(p11 - p12*p13*p14)\n",
    "    \n",
    "    p21 = (bi[1]/b)*(zv-1)-np.log(zv-B)\n",
    "    p22 = A/(2*2**0.5*B)\n",
    "    p23 = 2*(x2*ai[1] + x1*a12)/a - bi[1]/b\n",
    "    p24 = np.log((zv + (1 + 2**0.5)*B)/(zv + (1 - 2**0.5)*B))\n",
    "    coefug2 = np.exp(p21 - p22*p23*p24)\n",
    "    \n",
    "    return np.array([coefug1,coefug2])"
   ]
  },
  {
   "cell_type": "code",
   "execution_count": null,
   "id": "d3b92ece",
   "metadata": {},
   "outputs": [],
   "source": [
    "#Rotina para o cálculo de coeficientes de fugacidade na fase vapor\n",
    "def calcoefugv(y1,y2,t,p,vtcpcw,vlambda,x0):\n",
    "    ncomp = 2\n",
    "    palfa = vlambda\n",
    "    tc = vtcpcw[:,0]\n",
    "    pc = vtcpcw[:,1]\n",
    "    w  = vtcpcw[:,2]\n",
    "\n",
    "    ai = np.zeros(ncomp)\n",
    "    bi = np.zeros(ncomp)\n",
    "\n",
    "    for i in range(0,ncomp):\n",
    "        ai[i],bi[i] = calcabpr3(t,tc[i],pc[i],w[i],'almeida',palfa[i,:])\n",
    "        \n",
    "\n",
    "    am,bm     = calcab(y1,y2,t,p,ai,bi,x0)[2:4]\n",
    "    zl,zv,A,B = resolveeospr2(am,bm,t,p)\n",
    "    coefug    = calcfipr(A,B,zv,ai,bi,am,bm,y1,y2,ncomp,x0)\n",
    "    return coefug"
   ]
  },
  {
   "cell_type": "code",
   "execution_count": null,
   "id": "feb61804",
   "metadata": {},
   "outputs": [],
   "source": [
    "#Rotina para o cálculo de coeficientes de fugacidade na fase líquida\n",
    "def calcoefugl(x1,x2,t,p,vtcpcw,vlambda,x0):\n",
    "    ncomp = 2\n",
    "    palfa = vlambda\n",
    "    tc = vtcpcw[:,0]\n",
    "    pc = vtcpcw[:,1]\n",
    "    w  = vtcpcw[:,2]\n",
    "\n",
    "    ai = np.zeros(ncomp)\n",
    "    bi = np.zeros(ncomp)\n",
    "\n",
    "    for k in range(0,ncomp):\n",
    "        ai[k],bi[k] = calcabpr3(t,tc[k],pc[k],w[k],'almeida',palfa[k,:])\n",
    "\n",
    "    am,bm = calcab(x1,x2,t,p,ai,bi,x0)[2:4]\n",
    "\n",
    "    zl,zv,A,B = resolveeospr2(am,bm,t,p)\n",
    "\n",
    "    coefug = calcfipr(A,B,zl,ai,bi,am,bm,x1,x2,ncomp,x0)\n",
    "    return coefug"
   ]
  },
  {
   "cell_type": "code",
   "execution_count": null,
   "id": "b637e4b0",
   "metadata": {},
   "outputs": [],
   "source": [
    "#Função para o cálculo da pressão de bolha via abordagem fi - fi com modelo de Peng - Robinson\n",
    "def calcpbrealbinfifipr(z,t,pv,vtcpcw,vlambda,x0):\n",
    "    ncomp = 2\n",
    "    eps   = 1e-5\n",
    "    dy    = 1\n",
    "    dfi1  = 1\n",
    "    dfi2  = 1\n",
    "\n",
    "    yid = np.zeros(ncomp)\n",
    "    \n",
    "    z   = np.array(z)\n",
    "    pv  = np.array(pv)\n",
    "    \n",
    "    pb0 = z[0]*pv[0]+z[1]*pv[1] #chute inicial para Pb via Lei de Rault\n",
    "    \n",
    "    for i in range(ncomp):\n",
    "        yid[i]=z[i]*pv[i]/pb0 #chute inicial para a composição na fase vapor via Lei de Rault\n",
    "    \n",
    "    y10 = yid[0]\n",
    "    y20 = yid[1]\n",
    "\n",
    "    while (dy>=eps):\n",
    "        coefugl = calcoefugl(z[0],z[1],t,pb0,vtcpcw,vlambda,x0)\n",
    "        while (dfi1>=eps) or (dfi2>=eps):\n",
    "            #avaliando o equilíbrio para o componente 1\n",
    "            coefugv = calcoefugv(y10,y20,t,pb0,vtcpcw,vlambda,x0)\n",
    "            rfi1 = (z[0]*coefugl[0])/(y10*coefugv[0])\n",
    "            y1   = y10*rfi1\n",
    "            y10  = y1\n",
    "            dfi1 = (rfi1-1)**2\n",
    "            \n",
    "            #avaliando o equilíbrio para o componente 2\n",
    "            coefugv = calcoefugv(y10,y20,t,pb0,vtcpcw,vlambda,x0)\n",
    "            rfi2 = (z[1]*coefugl[1])/(y20*coefugv[1])\n",
    "            y2   = y20*rfi2\n",
    "            y20  = y2\n",
    "            dfi2 = (rfi2-1)**2\n",
    "        \n",
    "        #testando a solução encontrada para o equilíbrio\n",
    "        s   = y10 + y20\n",
    "        pb0 = pb0*s #atualizando a pressão de bolha inicial\n",
    "        dy  = abs(s-1)\n",
    "        y   = [y10,y20]\n",
    "        \n",
    "        dfi1 = 1\n",
    "        dfi2 = 1\n",
    "    \n",
    "    pb = pb0\n",
    "    \n",
    "    return pb,y"
   ]
  },
  {
   "cell_type": "code",
   "execution_count": null,
   "id": "3384d827",
   "metadata": {},
   "outputs": [],
   "source": [
    "#Função para o cálculo do diagrama de fases no espaço P - z na abordagem fi - fi via PR e lei de Rault\n",
    "def calcdiagpbfifi(t,ncomp,vtcpcw,vlambda,mPA,xf):\n",
    "    \n",
    "    ncomp=2\n",
    "    pv=np.zeros(ncomp)\n",
    "    fsat=np.zeros(ncomp)\n",
    "    \n",
    "    #definindo os lambdas dos componentes\n",
    "    lambdaA=vlambda[0]\n",
    "    lambdaB=vlambda[1]\n",
    "    \n",
    "    n = 200 #número de pontos do diagrama\n",
    "    pcalc  = np.zeros(n)\n",
    "    ycalc  = np.zeros(n)\n",
    "    pcalcid = np.zeros(n)\n",
    "    ycalcid = np.zeros(n)\n",
    "    \n",
    "    #calculando os psats dos componentes puros\n",
    "    pv[0],fsat[0] = calcpsatpr(t,vtcpcw[0][0],vtcpcw[0][1],vtcpcw[0][2],lambdaA,mPA[0])\n",
    "    pv[1],fsat[1] = calcpsatpr(t,vtcpcw[1][0],vtcpcw[1][1],vtcpcw[1][2],lambdaB,mPA[1])\n",
    "    pcalc[-1] = pv[0]\n",
    "    pcalc[0]  = pv[1]\n",
    "    pcalcid[-1] = pv[0]\n",
    "    pcalcid[0] = pv[1]\n",
    "   \n",
    "    z1calc = np.linspace(0.0000000000000001,0.999999999999999,n)\n",
    "    z2calc = [1-x for x in z1calc]\n",
    "    \n",
    "    for i in range (n):\n",
    "        z=[z1calc[i],z2calc[i]]\n",
    "        pcalcid[i]= z1calc[i]*pv[0]+z2calc[i]*pv[1]\n",
    "        pcalc[i], y0 = calcpbrealbinfifipr(z,t,pv,vtcpcw,vlambda,xf)\n",
    "        ycalc[i]= y0[0]\n",
    "        ycalcid[i] = z1calc[i]*pv[0]/pcalcid[i]\n",
    "        \n",
    "    return z1calc,ycalc,ycalcid,pcalc,pcalcid,pv"
   ]
  },
  {
   "cell_type": "markdown",
   "id": "55e50889",
   "metadata": {},
   "source": [
    "### Carrega de dados de compostos puros"
   ]
  },
  {
   "cell_type": "code",
   "execution_count": null,
   "id": "3be791d8",
   "metadata": {},
   "outputs": [],
   "source": [
    "vTcPcw       = CarMat(\"TcPcw.txt\")\n",
    "Antoine      = CarMat(\"Antoine.txt\")\n",
    "Lambda       = CarMat(\"Lambdas.txt\")"
   ]
  },
  {
   "cell_type": "markdown",
   "id": "20e79c2c",
   "metadata": {},
   "source": [
    "### Diagrama de fase do sistema éter dietílico - acetona via abordagem fi - fi"
   ]
  },
  {
   "cell_type": "code",
   "execution_count": null,
   "id": "6b0a4747",
   "metadata": {},
   "outputs": [],
   "source": [
    "#definindo parâmetros de Antoine, lambdas e propriedades crítica do dietil-éter\n",
    "paAdet  = StrAFloatList(Antoine[5][0:3])\n",
    "Lambdadet = StrAFloatList(Lambda[5][0:3])\n",
    "vTcPcwdet = StrAFloatList(vTcPcw[5][0:3])"
   ]
  },
  {
   "cell_type": "code",
   "execution_count": null,
   "id": "9222511b",
   "metadata": {},
   "outputs": [],
   "source": [
    "#definindo parâmetros de Antoine, lambdas e propriedades críticas para acetona\n",
    "paAac = StrAFloatList(Antoine[1][0:3])\n",
    "Lambdaac = StrAFloatList(Lambda[1][0:3])\n",
    "vTcPcwac = StrAFloatList(vTcPcw[1][0:3])"
   ]
  },
  {
   "cell_type": "code",
   "execution_count": null,
   "id": "657f4b66",
   "metadata": {},
   "outputs": [],
   "source": [
    "#Definindo matrizes de lambdas e propriedades críticas\n",
    "vtcpcw1=np.array([vTcPcwdet,vTcPcwac])\n",
    "vlambda1=np.array([Lambdadet,Lambdaac])\n",
    "mPA1=np.array([paAdet,paAac])"
   ]
  },
  {
   "cell_type": "code",
   "execution_count": null,
   "id": "8ea6f6d8",
   "metadata": {},
   "outputs": [],
   "source": [
    "#carregando dados ELV para o sistema Acetona - éter dietílico\n",
    "dadoselv1 = CarMat(\"dadoselv - dietil eter - acetona.txt\")\n",
    "dadoselv1 = strAFloatMat(dadoselv1)\n",
    "pexp1  = np.array(dadoselv1[:,0])*1000\n",
    "zexp1 = np.array(dadoselv1[:,1])\n",
    "yexp1 = np.array(dadoselv1[:,2])"
   ]
  },
  {
   "cell_type": "code",
   "execution_count": null,
   "id": "13c99a17",
   "metadata": {},
   "outputs": [],
   "source": [
    "#Cálculo do diagrama de fases do sistema Acetona - Éter - dietílico\n",
    "t=303.15\n",
    "ncomp=2\n",
    "xf=0.03880447\n",
    "z1calc,y1calc,y1calcid,pcalcpr1,pcalcid1,pv1=calcdiagpbfifi(t,ncomp,vtcpcw1,vlambda1,mPA1,xf)"
   ]
  },
  {
   "cell_type": "code",
   "execution_count": null,
   "id": "661b4a44",
   "metadata": {},
   "outputs": [],
   "source": [
    "#plot do diagrama de fases via abordagem fi - fi\n",
    "plt.figure(figsize=(8,6))\n",
    "plt.plot(z1calc,pcalcpr1/1000,color=\"blue\", linewidth=1, label = 'PR')\n",
    "plt.plot(y1calc,pcalcpr1/1000,color=\"blue\", linewidth=1)\n",
    "plt.plot(zexp1,pexp1/1000,color=\"red\", marker = \"*\", linewidth=0, label = 'Dados Experimentais')\n",
    "plt.plot(yexp1,pexp1/1000,color=\"red\", marker = \"*\", linewidth = 0)\n",
    "plt.xlabel('Z Eter Dietílico',fontsize=20)\n",
    "plt.ylabel('P(KPa)',fontsize=20)\n",
    "plt.title('Diagrama P - z do sistema dietil-éter - acetona a 303.15 K', fontsize = 20)\n",
    "plt.rcParams.update({'font.size':15})\n",
    "plt.legend()\n",
    "plt.grid(True, color='k', linestyle=':')\n",
    "plt.tight_layout()\n",
    "plt.savefig('ELV EterDietílico-Acetona.png',dpi=600)\n",
    "plt.show()"
   ]
  },
  {
   "cell_type": "code",
   "execution_count": null,
   "id": "b87b2b2c",
   "metadata": {},
   "outputs": [],
   "source": [
    "dadoselv12 = CarMat(\"dadoselv - dietil eter - acetona2.txt\")\n",
    "dadoselv12 = strAFloatMat(dadoselv12)\n",
    "pexp12  = np.array(dadoselv12[:,0])*1000\n",
    "zexp12 = np.array(dadoselv12[:,1])\n",
    "yexp12 = np.array(dadoselv12[:,2])"
   ]
  },
  {
   "cell_type": "code",
   "execution_count": null,
   "id": "f267a3df",
   "metadata": {},
   "outputs": [],
   "source": [
    "#Cálculo dos desvios relativos médios na pressão e composição da fase vapor\n",
    "nexp12=len(zexp12)\n",
    "\n",
    "vpexp12=[float(x) for x in pexp12] #criando um vetor numérico (string para float)\n",
    "vyexp12=[float(x) for x in yexp12]\n",
    "\n",
    "erropb  = np.zeros(nexp12)\n",
    "erroyb = np.zeros(nexp12)\n",
    "\n",
    "erromediopb=0;\n",
    "erromedioyb=0;\n",
    "\n",
    "for i in range(nexp12):\n",
    "    z=[zexp12[i],1-zexp12[i]]\n",
    "    pbpr, y0 = calcpbrealbinfifipr(z,t,pv1,vtcpcw1,vlambda1,xf)\n",
    "    ybpr = y0[0]\n",
    "    erropb[i]=abs(vpexp12[i]-pbpr)/vpexp12[i]\n",
    "    erroyb[i]=abs(vyexp12[i]-ybpr)/vyexp12[i]\n",
    "    erromediopb=erromediopb+erropb[i]\n",
    "    erromedioyb=erromedioyb+erroyb[i]\n",
    "\n",
    "erromediopb=erromediopb/nexp12\n",
    "erromedioyb=erromedioyb/nexp12\n",
    "\n",
    "print('erro medio Pb=',erromediopb)\n",
    "print('erro medio yb=',erromedioyb)"
   ]
  },
  {
   "cell_type": "code",
   "execution_count": null,
   "id": "8761d0f1",
   "metadata": {},
   "outputs": [],
   "source": [
    "#plot do diagrama de fases via lei de Rault\n",
    "plt.figure(figsize=(8,6))\n",
    "plt.plot(z1calc,pcalcid1/1000,color=\"blue\", linewidth=1, label = 'Lei de Rault')\n",
    "plt.plot(y1calcid,pcalcid1/1000,color=\"blue\", linewidth=1)\n",
    "plt.plot(zexp1,pexp1/1000,color=\"red\", marker = \"*\", linewidth=0, label = 'Dados Experimentais')\n",
    "plt.plot(yexp1,pexp1/1000,color=\"red\", marker = \"*\", linewidth = 0)\n",
    "plt.xlabel('Z Eter Dietílico',fontsize=20)\n",
    "plt.ylabel('P(KPa)',fontsize=20)\n",
    "plt.title('Diagrama P - z do sistema dietil-éter - acetona a 303.15 K', fontsize = 20)\n",
    "plt.rcParams.update({'font.size':15})\n",
    "plt.legend()\n",
    "plt.grid(True, color='k', linestyle=':')\n",
    "plt.tight_layout()\n",
    "plt.savefig('ELV EterDietílico-Acetona.png',dpi=600)\n",
    "plt.show()"
   ]
  },
  {
   "cell_type": "markdown",
   "id": "03d5928f",
   "metadata": {},
   "source": [
    "### Modelagem do diagrama de fases do sistema dieteil - éter - metanol via abordagem fi-fi"
   ]
  },
  {
   "cell_type": "code",
   "execution_count": null,
   "id": "fa079bbd",
   "metadata": {},
   "outputs": [],
   "source": [
    "paAmet = StrAFloatList(Antoine[6][0:3])\n",
    "Lambdamet = StrAFloatList(Lambda[6][0:3])\n",
    "vTcPcwmet = StrAFloatList(vTcPcw[6][0:3])"
   ]
  },
  {
   "cell_type": "code",
   "execution_count": null,
   "id": "a84acc6a",
   "metadata": {},
   "outputs": [],
   "source": [
    "vtcpcw2=np.array([vTcPcwdet,vTcPcwmet])\n",
    "vlambda2=np.array([Lambdadet,Lambdamet])\n",
    "mPA2=np.array([paAdet,paAmet])"
   ]
  },
  {
   "cell_type": "code",
   "execution_count": null,
   "id": "96c2fda8",
   "metadata": {},
   "outputs": [],
   "source": [
    "dadoselv2 = CarMat(\"dadoselv - dietileter - metanol.txt\")\n",
    "dadoselv2 = strAFloatMat(dadoselv2)\n",
    "pexp2  = np.array(dadoselv2[:,0])*1000\n",
    "zexp2 = np.array(dadoselv2[:,1])\n",
    "yexp2 = np.array(dadoselv2[:,2])"
   ]
  },
  {
   "cell_type": "code",
   "execution_count": null,
   "id": "962e706b",
   "metadata": {},
   "outputs": [],
   "source": [
    "t=303.15\n",
    "ncomp=2\n",
    "xf=-0.02162723\n",
    "z2calc,y2calc,y2calcid,pcalcpr2,pcalcid2,pv2=calcdiagpbfifi(t,ncomp,vtcpcw2,vlambda2,mPA2,xf)"
   ]
  },
  {
   "cell_type": "code",
   "execution_count": null,
   "id": "5a971725",
   "metadata": {},
   "outputs": [],
   "source": [
    "#plot do diagrama de fases via abordagem fi - fi\n",
    "plt.figure(figsize=(8,6))\n",
    "plt.plot(z2calc,pcalcpr2/1000,color=\"blue\", linewidth=1, label = 'PR')\n",
    "plt.plot(y2calc,pcalcpr2/1000,color=\"blue\", linewidth=1)\n",
    "plt.plot(zexp2,pexp2/1000,color=\"red\", marker = \"*\", linewidth=0, label = 'Dados Experimentais')\n",
    "plt.plot(yexp2,pexp2/1000,color=\"red\", marker = \"*\", linewidth = 0)\n",
    "plt.xlabel('z(eter dietílico)',fontsize=20)\n",
    "plt.ylabel('P(KPa)',fontsize=20)\n",
    "plt.title('Diagrama P - z do sistema dietil-éter - metanol a 303.15 K', fontsize = 20)\n",
    "plt.rcParams.update({'font.size':15})\n",
    "plt.legend()\n",
    "plt.grid(True, color='k', linestyle=':')\n",
    "plt.tight_layout()\n",
    "plt.savefig('ELV EterDietílico-metanol.png',dpi=600)\n",
    "plt.show()"
   ]
  },
  {
   "cell_type": "code",
   "execution_count": null,
   "id": "f52682ca",
   "metadata": {},
   "outputs": [],
   "source": [
    "#plot do diagrama de fases via lei de Rault\n",
    "plt.figure(figsize=(8,6))\n",
    "plt.plot(z2calc,pcalcid2/1000,color=\"blue\", linewidth=1, label = 'Lei de Rault')\n",
    "plt.plot(y2calcid,pcalcid2/1000,color=\"blue\", linewidth=1)\n",
    "plt.plot(zexp2,pexp2/1000,color=\"red\", marker = \"*\", linewidth=0, label = 'Dados Experimentais')\n",
    "plt.plot(yexp2,pexp2/1000,color=\"red\", marker = \"*\", linewidth = 0)\n",
    "plt.xlabel('z(eter dietílico)',fontsize=20)\n",
    "plt.ylabel('P(KPa)',fontsize=20)\n",
    "plt.title('Diagrama P - z do sistema dietil-éter - metanol a 303.15 K', fontsize = 20)\n",
    "plt.rcParams.update({'font.size':15})\n",
    "plt.legend()\n",
    "plt.grid(True, color='k', linestyle=':')\n",
    "plt.tight_layout()\n",
    "plt.savefig('ELV EterDietílico-metanol.png',dpi=600)\n",
    "plt.show()"
   ]
  },
  {
   "cell_type": "code",
   "execution_count": null,
   "id": "450363bc",
   "metadata": {},
   "outputs": [],
   "source": [
    "#Cálculo dos desvios relativos médios na pressão e composição da fase vapor\n",
    "nexp2=len(zexp2)\n",
    "\n",
    "vpexp2=[float(x) for x in pexp2] #criando um vetor numérico (string para float)\n",
    "vyexp2=[float(x) for x in yexp2]\n",
    "\n",
    "erropb  = np.zeros(nexp2)\n",
    "erroyb = np.zeros(nexp2)\n",
    "\n",
    "erromediopb=0;\n",
    "erromedioyb=0;\n",
    "\n",
    "for i in range(nexp2):\n",
    "    z=[zexp2[i],1-zexp2[i]]\n",
    "    pbpr, y0 = calcpbrealbinfifipr(z,t,pv2,vtcpcw2,vlambda2,xf)\n",
    "    ybpr = y0[0]\n",
    "    erropb[i]=abs(vpexp2[i]-pbpr)/vpexp2[i]\n",
    "    erroyb[i]=abs(vyexp2[i]-ybpr)/vyexp2[i]\n",
    "    erromediopb=erromediopb+erropb[i]\n",
    "    erromedioyb=erromedioyb+erroyb[i]\n",
    "\n",
    "erromediopb=erromediopb/nexp2\n",
    "erromedioyb=erromedioyb/nexp2\n",
    "\n",
    "print('erro medio Pb=',erromediopb)\n",
    "print('erro medio yb=',erromedioyb)"
   ]
  },
  {
   "cell_type": "markdown",
   "id": "3d87aa08",
   "metadata": {},
   "source": [
    "### Modelagem do diagrama de fases do sistema benzeno - etanol via abordagem gama - fi (Peng - Robinson e UNIQUAC)"
   ]
  },
  {
   "cell_type": "code",
   "execution_count": null,
   "id": "81f127ea",
   "metadata": {},
   "outputs": [],
   "source": [
    "#função para construção de diagramas de fases P - z na abordagem gama - fi\n",
    "def calcdiagpb(t,vtcpcw,vlambda,mrq,mPA,x0):\n",
    "    ncomp=2\n",
    "    pv=np.zeros(ncomp)\n",
    "    fsat=np.zeros(ncomp)\n",
    "    \n",
    "    #definindo os lambdas dos componentes\n",
    "    lambdaA=vlambda[0]\n",
    "    lambdaB=vlambda[1]\n",
    "    \n",
    "    pv[0],fsat[0] = calcpsatpr(t,vtcpcw[0][0],vtcpcw[0][1],vtcpcw[0][2],lambdaA,mPA[0])\n",
    "    pv[1],fsat[1] = calcpsatpr(t,vtcpcw[1][0],vtcpcw[1][1],vtcpcw[1][2],lambdaB,mPA[1])\n",
    "    \n",
    "    n=300 #número de pontos no diagrama de fases\n",
    "    z1calc = np.linspace(0.0000000000000001,0.999999999999999,n)\n",
    "    z2calc = [1-x for x in z1calc]\n",
    "    \n",
    "    pbcalc=np.zeros(n)\n",
    "    ycalc=np.zeros(n)\n",
    "    \n",
    "    for i in range (n):\n",
    "        z=[z1calc[i],z2calc[i]]\n",
    "        pbcalc[i],y0 = calcpbreal(z,t,pv,fsat,vtcpcw,vlambda,mrq,x0,ncomp)\n",
    "        ycalc[i]= y0[0]\n",
    "        \n",
    "        \n",
    "    return z1calc,ycalc,pbcalc,pv,fsat"
   ]
  },
  {
   "cell_type": "code",
   "execution_count": null,
   "id": "deac2476",
   "metadata": {},
   "outputs": [],
   "source": [
    "#função para o cálculo da pressão de bolha na abordagem gama - fi com modelos de Peng - Robinson e UNIQUAC\n",
    "def calcpbreal(z,t,pv,fsat,vtcpc,vlambda,mrq,x0,ncomp):\n",
    "    eps    = 1e-5\n",
    "    epsy   = 1e-5\n",
    "    dy     = 1\n",
    "    dgama1 = 1\n",
    "    dgama2 = 1\n",
    "    \n",
    "    pb0 = z[0]*pv[0] + z[1]*pv[1]\n",
    "    \n",
    "    yid1 = z[0]*pv[0]/pb0\n",
    "    yid2 = z[1]*pv[1]/pb0\n",
    "    \n",
    "    y10 = yid1\n",
    "    y20 = yid2\n",
    "    \n",
    "    gama = calcgamauni(z[0],z[1],t,mrq,x0) #Cálculo dos coeficientes de fugacidade via UNIQUAC\n",
    "    \n",
    "    while (np.any(dy >= epsy)):\n",
    "        zv,ai,bi = calculazv(z[0],z[1],t,pb0,vtcpc,vlambda)\n",
    "        while (np.any(dgama1 >= eps)) or (np.any(dgama2 >= eps)):\n",
    "            coefug = calcoefug(y10,y20,zv,ai,bi,t,pb0,ncomp)\n",
    "            rgama2 = (z[1]*gama[1]*fsat[1])/(y20*pb0*coefug[1])\n",
    "            dgama2 = (rgama2-1)**2\n",
    "            y20    = y20*rgama2\n",
    "            \n",
    "            coefug = calcoefug(y10,y20,zv,ai,bi,t,pb0,ncomp)\n",
    "            rgama1 = (z[0]*gama[0]*fsat[0])/(y10*pb0*coefug[0])\n",
    "            dgama1 = (rgama1-1)**2\n",
    "            y10    = y10*rgama1\n",
    "        \n",
    "        s   = (y10+y20)\n",
    "        pb0 = pb0*s\n",
    "        dy  = abs(s-1)\n",
    "        y   = [y10,y20]\n",
    "        dgama1 = 1\n",
    "        dgama2 = 1\n",
    "    \n",
    "    pb = pb0\n",
    "    \n",
    "    return pb, y"
   ]
  },
  {
   "cell_type": "code",
   "execution_count": null,
   "id": "5bdc0d41",
   "metadata": {},
   "outputs": [],
   "source": [
    "#função para o cálculo do fator de compressibilidade para a fase vapor\n",
    "def calculazv(z1,z2,t,p,vtcpc,vlambda):\n",
    "    ncomp = 2\n",
    "    palfa = vlambda\n",
    "    \n",
    "    Tc = vtcpc[:,0]\n",
    "    Pc = vtcpc[:,1]\n",
    "    w  = vtcpc[:,2]\n",
    "    ai = np.zeros(ncomp)\n",
    "    bi = np.zeros(ncomp)\n",
    "\n",
    "    for i in range(0,ncomp):\n",
    "            ai[i],bi[i] = calcabpr3(t,Tc[i],Pc[i],w,'almeida',palfa[i,:])\n",
    "            \n",
    "    \n",
    "    am, bm   = calcab(z1,z2,t,p,ai,bi,0)[2:4]\n",
    "    zl, zv, A, B = resolveeospr2(am,bm,t,p)\n",
    "    return zv, ai, bi"
   ]
  },
  {
   "cell_type": "code",
   "execution_count": null,
   "id": "b310856d",
   "metadata": {},
   "outputs": [],
   "source": [
    "#função para o cálculo dos coeficientes de fugacidade na fase vapor\n",
    "def calcoefug(x1,x2,zv,ai,bi,t,p,ncomp):\n",
    "    A,B,am,bm = calcab(x1,x2,t,p,ai,bi,0)\n",
    "    coefug    = calcfipr(A,B,zv,ai,bi,am,bm,x1,x2,ncomp,0)\n",
    "    return coefug"
   ]
  },
  {
   "cell_type": "code",
   "execution_count": null,
   "id": "af237668",
   "metadata": {},
   "outputs": [],
   "source": [
    "#Função para o cálculo de coeficientes de atividade via UNIQUAC\n",
    "def calcgamauni(x10,x20,t,mrq,x0):\n",
    "    lngamacomb = np.zeros(2)\n",
    "    lngamares  = np.zeros(2)\n",
    "    gama       = np.zeros(2)\n",
    "    fi         = np.zeros(2)\n",
    "    teta       = np.zeros(2)\n",
    "    tal        = np.zeros(2)\n",
    "    l          = np.zeros(2)\n",
    "    u          = np.zeros(2)\n",
    "    \n",
    "    #número de primeiros vizinhos da rede\n",
    "    zconf = 8\n",
    "    \n",
    "    #parâmetros uniquac - r e q\n",
    "    r1 = mrq[0,0]\n",
    "    q1 = mrq[0,1]\n",
    "    r2 = mrq[1,0]\n",
    "    q2 = mrq[1,1]\n",
    "    \n",
    "    #frações de segmentos\n",
    "    fi1 = (r1*x10)/(r1*x10+r2*x20)\n",
    "    fi2 = (r2*x20)/(r1*x10+r2*x20)\n",
    "    \n",
    "    #frações de área de contato\n",
    "    teta1 = (q1*x10)/(q1*x10+q2*x20)   \n",
    "    teta2 = (q2*x20)/(q1*x10+q2*x20)\n",
    "    \n",
    "    l1 = (zconf/2)*(r1-q1)-(r1-1)\n",
    "    l2 = (zconf/2)*(r2-q2)-(r2-1)\n",
    "    \n",
    "    #parâmetros energéticos uniquac - uij e uji\n",
    "    u12_0 = x0[0]\n",
    "    u21_0 = x0[1]\n",
    "\n",
    "    u21_t = x0[2]\n",
    "    u12_t = x0[3]\n",
    "\n",
    "    u[0] = u12_0 + u12_t*(t-298.15)\n",
    "    u[1] = u21_0 + u21_t*(t-298.15)\n",
    "\n",
    "    tal[0] = np.exp(-u[0]/t)\n",
    "    tal[1] = np.exp(-u[1]/t)\n",
    "    \n",
    "    #cálculo dos coeficientes de atividade\n",
    "    lngamacomb1 = np.log(fi1/x10) - zconf/2*q1*np.log(fi1/teta1)+l1-fi1/x10*(x10*l1+x20*l2)\n",
    "    lngamacomb2 = np.log(fi2/x20) - zconf/2*q2*np.log(fi2/teta2)+l2-fi2/x20*(x10*l1+x20*l2)\n",
    "    \n",
    "    lngamares1 = q1*(1-np.log(teta1+teta2*tal[1])-(teta1/(teta1+teta2*tal[1])+(teta2*tal[0])/(teta2+teta1*tal[0])))\n",
    "    lngamares2 = q2*(1-np.log(teta2+teta1*tal[0])-(teta2/(teta2+teta1*tal[0])+(teta1*tal[1])/(teta1+teta2*tal[1])))\n",
    "    \n",
    "    gama1 = np.exp(lngamacomb1+lngamares1)\n",
    "    gama2 = np.exp(lngamacomb2+lngamares2)\n",
    "    \n",
    "    return np.array([gama1,gama2])"
   ]
  },
  {
   "cell_type": "code",
   "execution_count": null,
   "id": "6e896cd6",
   "metadata": {},
   "outputs": [],
   "source": [
    "#lendo dados para o Benzeno\n",
    "paAb  = StrAFloatList(Antoine[2][0:3])\n",
    "Lambdab = StrAFloatList(Lambda[2][0:3])\n",
    "vTcPcwb= StrAFloatList(vTcPcw[2][0:3])"
   ]
  },
  {
   "cell_type": "code",
   "execution_count": null,
   "id": "05880a6d",
   "metadata": {},
   "outputs": [],
   "source": [
    "#lendo dados para o etanol\n",
    "paAet  = StrAFloatList(Antoine[4][0:3])\n",
    "Lambdaet = StrAFloatList(Lambda[4][0:3])\n",
    "vTcPcwet= StrAFloatList(vTcPcw[4][0:3])"
   ]
  },
  {
   "cell_type": "code",
   "execution_count": null,
   "id": "9796bbf8",
   "metadata": {},
   "outputs": [],
   "source": [
    "#Lendo as matrizes com dados ELV e dados mrq\n",
    "dadoselv3 = CarMat(\"dadoselv - benzeno - etanol2.txt\") #dados sem componentes puros\n",
    "dadoselv3 = strAFloatMat(dadoselv3)\n",
    "mrq3      = CarMat(\"mrq - etanol - benzeno.txt\")\n",
    "mrq3      = strAFloatMat(mrq3)"
   ]
  },
  {
   "cell_type": "code",
   "execution_count": null,
   "id": "0ad0f5df",
   "metadata": {},
   "outputs": [],
   "source": [
    "pexp3  = np.array(dadoselv3[:,0])*1000\n",
    "zexp3 = dadoselv3[:,1]\n",
    "yexp3 = np.array(dadoselv3[:,2])"
   ]
  },
  {
   "cell_type": "code",
   "execution_count": null,
   "id": "d55cf049",
   "metadata": {},
   "outputs": [],
   "source": [
    "#Lendo os dados dos componentes \n",
    "vTcPcw3   = np.array([vTcPcwet,vTcPcwb])\n",
    "vlambda3  = np.array([Lambdaet,Lambdab])\n",
    "mpA3 = np.array([paAet,paAb])"
   ]
  },
  {
   "cell_type": "code",
   "execution_count": null,
   "id": "df363dc8",
   "metadata": {},
   "outputs": [],
   "source": [
    "#Calculo do diagrama P - z do sistema benzeno - etanol\n",
    "t=318.15\n",
    "xf=[298.78201846, 405.84363675, 2.48033063, -19.6078529]\n",
    "zcalc3,ycalc3,pbprcalc3,pv3,fsat3=calcdiagpb(t,vTcPcw3,vlambda3,mrq3,mpA3,xf)"
   ]
  },
  {
   "cell_type": "code",
   "execution_count": null,
   "id": "4e086074",
   "metadata": {},
   "outputs": [],
   "source": [
    "plt.figure(figsize=(8,6))\n",
    "plt.plot(zcalc3,pbprcalc3/1000,color=\"blue\", linewidth=1, label = 'PR')\n",
    "plt.plot(ycalc3,pbprcalc3/1000,color=\"blue\", linewidth=1)\n",
    "plt.plot(zexp3,pexp3/1000,color=\"red\", marker = \"*\", linewidth=0, label = 'Dados Experimentais')\n",
    "plt.plot(yexp3,pexp3/1000,color=\"red\", marker = \"*\", linewidth = 0)\n",
    "plt.xlabel('z(etanol)',fontsize=20)\n",
    "plt.ylabel('P(KPa)',fontsize=20)\n",
    "plt.title('Diagrama de fases do sistema benzeno - etanol via modelos de Peng - Robinson e UNIQUAC', fontsize = 20)\n",
    "plt.rcParams.update({'font.size':15})\n",
    "plt.legend()\n",
    "plt.grid(True, color='k', linestyle=':')\n",
    "plt.tight_layout()\n",
    "plt.savefig('ELV Benzeno-Etanol.png',dpi=600)\n",
    "plt.show()"
   ]
  },
  {
   "cell_type": "code",
   "execution_count": null,
   "id": "0043f15c",
   "metadata": {},
   "outputs": [],
   "source": [
    "dadoselv3 = CarMat(\"dadoselv - benzeno - etanol.txt\") #dados sem componentes puros\n",
    "dadoselv3 = strAFloatMat(dadoselv3)\n",
    "pexp3  = np.array(dadoselv3[:,0])*1000\n",
    "zexp3 = dadoselv3[:,1]\n",
    "yexp3 = np.array(dadoselv3[:,2])"
   ]
  },
  {
   "cell_type": "code",
   "execution_count": null,
   "id": "d9fd2ecd",
   "metadata": {},
   "outputs": [],
   "source": [
    "#Cálculo dos erros médios em Pb e composição da fase vapor\n",
    "ncomp=2\n",
    "\n",
    "nexp3=len(zexp3)\n",
    "\n",
    "vpexp3=[float(x) for x in pexp3] #criando um vetor numérico (string para float)\n",
    "vyexp3=[float(x) for x in yexp3]\n",
    "\n",
    "erropb  = np.zeros(nexp3)\n",
    "erroyb = np.zeros(nexp3)\n",
    "\n",
    "erromediopb=0;\n",
    "erromedioyb=0;\n",
    "\n",
    "for i in range(nexp3):\n",
    "    z=[zexp3[i],1-zexp3[i]]\n",
    "    pbpr,yb=calcpbreal(z,t,pv3,fsat3,vTcPcw3,vlambda3,mrq3,xf,ncomp)\n",
    "    ybpr = yb[0]\n",
    "    erropb[i]=abs(vpexp3[i]-pbpr)/vpexp3[i]\n",
    "    erroyb[i]=abs(vyexp3[i]-ybpr)/vyexp3[i]\n",
    "    erromediopb=erromediopb+erropb[i]\n",
    "    erromedioyb=erromedioyb+erroyb[i]\n",
    "\n",
    "erromediopb=erromediopb/nexp3\n",
    "erromedioyb=erromedioyb/nexp3\n",
    "\n",
    "print('erro medio Pb=',erromediopb)\n",
    "print('erro medio yb=',erromedioyb)"
   ]
  }
 ],
 "metadata": {
  "colab": {
   "provenance": []
  },
  "kernelspec": {
   "display_name": "Python 3 (ipykernel)",
   "language": "python",
   "name": "python3"
  },
  "language_info": {
   "codemirror_mode": {
    "name": "ipython",
    "version": 3
   },
   "file_extension": ".py",
   "mimetype": "text/x-python",
   "name": "python",
   "nbconvert_exporter": "python",
   "pygments_lexer": "ipython3",
   "version": "3.9.13"
  },
  "toc": {
   "base_numbering": 1,
   "nav_menu": {},
   "number_sections": true,
   "sideBar": true,
   "skip_h1_title": false,
   "title_cell": "Table of Contents",
   "title_sidebar": "Contents",
   "toc_cell": false,
   "toc_position": {},
   "toc_section_display": true,
   "toc_window_display": false
  },
  "varInspector": {
   "cols": {
    "lenName": 16,
    "lenType": 16,
    "lenVar": 40
   },
   "kernels_config": {
    "python": {
     "delete_cmd_postfix": "",
     "delete_cmd_prefix": "del ",
     "library": "var_list.py",
     "varRefreshCmd": "print(var_dic_list())"
    },
    "r": {
     "delete_cmd_postfix": ") ",
     "delete_cmd_prefix": "rm(",
     "library": "var_list.r",
     "varRefreshCmd": "cat(var_dic_list()) "
    }
   },
   "types_to_exclude": [
    "module",
    "function",
    "builtin_function_or_method",
    "instance",
    "_Feature"
   ],
   "window_display": false
  }
 },
 "nbformat": 4,
 "nbformat_minor": 5
}
